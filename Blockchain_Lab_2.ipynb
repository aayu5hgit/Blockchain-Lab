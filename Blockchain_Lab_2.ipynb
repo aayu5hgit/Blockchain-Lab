{
  "nbformat": 4,
  "nbformat_minor": 0,
  "metadata": {
    "colab": {
      "provenance": [],
      "include_colab_link": true
    },
    "kernelspec": {
      "name": "python3",
      "display_name": "Python 3"
    },
    "language_info": {
      "name": "python"
    }
  },
  "cells": [
    {
      "cell_type": "markdown",
      "metadata": {
        "id": "view-in-github",
        "colab_type": "text"
      },
      "source": [
        "<a href=\"https://colab.research.google.com/github/aayu5hgit/Blockchain-Lab/blob/main/Blockchain_Lab_2.ipynb\" target=\"_parent\"><img src=\"https://colab.research.google.com/assets/colab-badge.svg\" alt=\"Open In Colab\"/></a>"
      ]
    },
    {
      "cell_type": "code",
      "source": [
        "import datetime\n",
        "import hashlib\n",
        "import json"
      ],
      "metadata": {
        "id": "JaDJVtjzzwd8"
      },
      "execution_count": 5,
      "outputs": []
    },
    {
      "cell_type": "code",
      "execution_count": 6,
      "metadata": {
        "id": "FJ5IqaskzbWT"
      },
      "outputs": [],
      "source": [
        "class Blockchain:\n",
        "    def __init__(self):\n",
        "        self.chain = []\n",
        "        self.create_block(proof = 1, previous_hash = '0')\n",
        "\n",
        "    def create_block(self, proof, previous_hash):\n",
        "        block = {'index': len(self.chain) + 1,\n",
        "                 'timestamp': str(datetime.datetime.now()),\n",
        "                 'proof': proof,\n",
        "                 'previous_hash': previous_hash}\n",
        "        self.chain.append(block)\n",
        "        return block\n",
        "\n",
        "    def get_previous_block(self):\n",
        "        return self.chain[-1]\n",
        "\n",
        "    def proof_of_work(self, previous_proof):\n",
        "        new_proof = 1\n",
        "        check_proof = False\n",
        "        while check_proof is False:\n",
        "            hash_operation = hashlib.sha256(str(new_proof**2 - previous_proof**2).encode()).hexdigest()\n",
        "            if hash_operation[:4] == '0000':\n",
        "                check_proof = True\n",
        "            else:\n",
        "                new_proof += 1\n",
        "        return new_proof\n",
        "\n",
        "    def hash(self, block):\n",
        "        encoded_block = json.dumps(block, sort_keys = True).encode()\n",
        "        return hashlib.sha256(encoded_block).hexdigest()\n",
        "\n",
        "    def is_chain_valid(self, chain):\n",
        "        previous_block = chain[0]\n",
        "        block_index = 1\n",
        "        while block_index < len(chain):\n",
        "            block = chain[block_index]\n",
        "            if block['previous_hash'] != self.hash(previous_block):\n",
        "                return False\n",
        "            previous_proof = previous_block['proof']\n",
        "            proof = block['proof']\n",
        "            hash_operation = hashlib.sha256(str(proof**2 - previous_proof**2).encode()).hexdigest()\n",
        "            if hash_operation[:4] != '0000':\n",
        "                return False\n",
        "            previous_block = block\n",
        "            block_index += 1\n",
        "        return True"
      ]
    },
    {
      "cell_type": "code",
      "source": [
        "# Creating a Blockchain\n",
        "blockchain = Blockchain()"
      ],
      "metadata": {
        "id": "O1vsWi_P0FDQ"
      },
      "execution_count": 7,
      "outputs": []
    },
    {
      "cell_type": "code",
      "source": [
        "# Mining a new block\n",
        "def mine_block():\n",
        "    previous_block = blockchain.get_previous_block()\n",
        "    previous_proof = previous_block['proof']\n",
        "    proof = blockchain.proof_of_work(previous_proof)\n",
        "    previous_hash = blockchain.hash(previous_block)\n",
        "    block = blockchain.create_block(proof, previous_hash)\n",
        "    response = {'message': 'Congratulations, you just mined a block!',\n",
        "                'index': block['index'],\n",
        "                'timestamp': block['timestamp'],\n",
        "                'proof': block['proof'],\n",
        "                'previous_hash': block['previous_hash']}\n",
        "    return response"
      ],
      "metadata": {
        "id": "_r79JUgxz8nX"
      },
      "execution_count": 8,
      "outputs": []
    },
    {
      "cell_type": "code",
      "source": [
        "# Getting the full Blockchain\n",
        "def get_chain():\n",
        "    response = {'chain': blockchain.chain,\n",
        "                'length': len(response)}\n",
        "    return response"
      ],
      "metadata": {
        "id": "CSI7qd0i0O2h"
      },
      "execution_count": 9,
      "outputs": []
    },
    {
      "cell_type": "code",
      "source": [
        "# Checking if the Blockchain is valid\n",
        "def is_valid():\n",
        "    is_valid = blockchain.is_chain_valid(blockchain.chain)\n",
        "    if is_valid:\n",
        "        response = {'message': 'All good. The Blockchain is valid.'}\n",
        "    else:\n",
        "        response = {'message': 'Houston, we have a problem. The Blockchain is not valid.'}\n",
        "    return is_valid"
      ],
      "metadata": {
        "id": "OxSP15sX0MkZ"
      },
      "execution_count": 10,
      "outputs": []
    },
    {
      "cell_type": "code",
      "source": [
        "print(\"Functions Menu:\")\n",
        "print(\"===============\")\n",
        "print(\"1. Mine a block\")\n",
        "print(\"2. Display the chain\")\n",
        "print(\"3. Check the validity of the chain\")\n",
        "choice = int(input(\"Enter your choice :\"))\n",
        "if choice == 1:\n",
        "  print(mine_block())\n",
        "elif choice == 2:\n",
        "  print(get_chain())\n",
        "elif choice == 3:\n",
        "  print(is_valid())\n",
        "else :\n",
        "  print(\"Invalid choice\")"
      ],
      "metadata": {
        "id": "mUYjAL2Ot9fG",
        "colab": {
          "base_uri": "https://localhost:8080/"
        },
        "outputId": "0a4d8734-23f2-4992-c677-50ac6cb7e5e3"
      },
      "execution_count": 11,
      "outputs": [
        {
          "output_type": "stream",
          "name": "stdout",
          "text": [
            "Functions Menu:\n",
            "===============\n",
            "1. Mine a block\n",
            "2. Display the chain\n",
            "3. Check the validity of the chain\n",
            "Enter your choice :1\n",
            "{'message': 'Congratulations, you just mined a block!', 'index': 2, 'timestamp': '2023-08-10 06:35:56.380145', 'proof': 533, 'previous_hash': '4b8be92408fba83d1a43a252baae36da4b464c5bb7fa2d0f8a95826bd78efca5'}\n"
          ]
        }
      ]
    }
  ]
}